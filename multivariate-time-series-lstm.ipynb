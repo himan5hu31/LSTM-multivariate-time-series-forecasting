{
 "cells": [
  {
   "cell_type": "code",
   "execution_count": 1,
   "id": "910cc42d",
   "metadata": {
    "_cell_guid": "b1076dfc-b9ad-4769-8c92-a6c4dae69d19",
    "_uuid": "8f2839f25d086af736a60e9eeb907d3b93b6e0e5",
    "execution": {
     "iopub.execute_input": "2023-04-08T17:19:52.417492Z",
     "iopub.status.busy": "2023-04-08T17:19:52.416985Z",
     "iopub.status.idle": "2023-04-08T17:19:52.433725Z",
     "shell.execute_reply": "2023-04-08T17:19:52.432667Z"
    },
    "papermill": {
     "duration": 0.02721,
     "end_time": "2023-04-08T17:19:52.435884",
     "exception": false,
     "start_time": "2023-04-08T17:19:52.408674",
     "status": "completed"
    },
    "tags": []
   },
   "outputs": [
    {
     "name": "stdout",
     "output_type": "stream",
     "text": [
      "/kaggle/input/tesla-stock-price/TSLA.csv\n"
     ]
    }
   ],
   "source": [
    "# This Python 3 environment comes with many helpful analytics libraries installed\n",
    "# It is defined by the kaggle/python Docker image: https://github.com/kaggle/docker-python\n",
    "# For example, here's several helpful packages to load\n",
    "\n",
    "import numpy as np # linear algebra\n",
    "import pandas as pd # data processing, CSV file I/O (e.g. pd.read_csv)\n",
    "\n",
    "# Input data files are available in the read-only \"../input/\" directory\n",
    "# For example, running this (by clicking run or pressing Shift+Enter) will list all files under the input directory\n",
    "\n",
    "import os\n",
    "for dirname, _, filenames in os.walk('/kaggle/input'):\n",
    "    for filename in filenames:\n",
    "        print(os.path.join(dirname, filename))\n",
    "\n",
    "# You can write up to 20GB to the current directory (/kaggle/working/) that gets preserved as output when you create a version using \"Save & Run All\" \n",
    "# You can also write temporary files to /kaggle/temp/, but they won't be saved outside of the current session"
   ]
  },
  {
   "cell_type": "code",
   "execution_count": null,
   "id": "1422f369",
   "metadata": {
    "papermill": {
     "duration": 0.005254,
     "end_time": "2023-04-08T17:19:52.446864",
     "exception": false,
     "start_time": "2023-04-08T17:19:52.441610",
     "status": "completed"
    },
    "tags": []
   },
   "outputs": [],
   "source": []
  },
  {
   "cell_type": "markdown",
   "id": "fbed99ab",
   "metadata": {
    "papermill": {
     "duration": 0.00523,
     "end_time": "2023-04-08T17:19:52.457548",
     "exception": false,
     "start_time": "2023-04-08T17:19:52.452318",
     "status": "completed"
    },
    "tags": []
   },
   "source": [
    "**Import library**"
   ]
  },
  {
   "cell_type": "code",
   "execution_count": 2,
   "id": "a4ba2b72",
   "metadata": {
    "execution": {
     "iopub.execute_input": "2023-04-08T17:19:52.469852Z",
     "iopub.status.busy": "2023-04-08T17:19:52.469573Z",
     "iopub.status.idle": "2023-04-08T17:19:59.420873Z",
     "shell.execute_reply": "2023-04-08T17:19:59.419766Z"
    },
    "papermill": {
     "duration": 6.96042,
     "end_time": "2023-04-08T17:19:59.423713",
     "exception": false,
     "start_time": "2023-04-08T17:19:52.463293",
     "status": "completed"
    },
    "tags": []
   },
   "outputs": [],
   "source": [
    "import pandas as pd\n",
    "from pathlib import Path\n",
    "from sklearn.preprocessing import LabelEncoder\n",
    "from sklearn.model_selection import train_test_split\n",
    "from matplotlib import pyplot as plt\n",
    "from sklearn.preprocessing import StandardScaler\n",
    "import warnings\n",
    "from keras import optimizers\n",
    "from keras.utils import plot_model\n",
    "from keras.models import Sequential, Model\n",
    "from keras.layers.convolutional import Conv1D, MaxPooling1D\n",
    "from keras.layers import Dense, LSTM, RepeatVector, TimeDistributed, Flatten\n",
    "from sklearn.metrics import mean_squared_error\n",
    "import plotly.graph_objs as go\n",
    "import tensorflow as tf\n",
    "import numpy as np\n",
    "from keras.layers import Dropout\n",
    "from tensorflow.keras.callbacks import EarlyStopping, ModelCheckpoint\n",
    "\n",
    "%matplotlib inline\n",
    "warnings.filterwarnings(\"ignore\")\n",
    "dir_path='../input/tesla-stock-price'"
   ]
  },
  {
   "cell_type": "markdown",
   "id": "1eba5115",
   "metadata": {
    "papermill": {
     "duration": 0.005346,
     "end_time": "2023-04-08T17:19:59.434872",
     "exception": false,
     "start_time": "2023-04-08T17:19:59.429526",
     "status": "completed"
    },
    "tags": []
   },
   "source": [
    "."
   ]
  },
  {
   "cell_type": "markdown",
   "id": "5dafdc57",
   "metadata": {
    "papermill": {
     "duration": 0.005235,
     "end_time": "2023-04-08T17:19:59.445558",
     "exception": false,
     "start_time": "2023-04-08T17:19:59.440323",
     "status": "completed"
    },
    "tags": []
   },
   "source": [
    "***python Class for Pre-processing***"
   ]
  },
  {
   "cell_type": "code",
   "execution_count": 3,
   "id": "1c0c67a4",
   "metadata": {
    "execution": {
     "iopub.execute_input": "2023-04-08T17:19:59.458305Z",
     "iopub.status.busy": "2023-04-08T17:19:59.457674Z",
     "iopub.status.idle": "2023-04-08T17:19:59.471911Z",
     "shell.execute_reply": "2023-04-08T17:19:59.471007Z"
    },
    "papermill": {
     "duration": 0.02298,
     "end_time": "2023-04-08T17:19:59.474015",
     "exception": false,
     "start_time": "2023-04-08T17:19:59.451035",
     "status": "completed"
    },
    "tags": []
   },
   "outputs": [],
   "source": [
    "class timeseries_pre():\n",
    "    def __init__(self,dir_path):\n",
    "        self.dir_path=dir_path\n",
    "        \n",
    "    def read_files(self):\n",
    "        comp_dir = Path(self.dir_path)\n",
    "        train_df = pd.read_csv(comp_dir / 'TSLA.csv',parse_dates=['Date'])\n",
    "        for i,col in enumerate(train_df.columns):\n",
    "            print(i,col)\n",
    "        return train_df.iloc[:]\n",
    "    \n",
    "    def transform_lablel(self,lb,train_df):\n",
    "        name=[train_df.columns[i] for i in list(lb)]\n",
    "        for name in list(name):\n",
    "            le = LabelEncoder()\n",
    "            label = le.fit_transform(train_df[name])\n",
    "            train_df.drop((name), axis=1, inplace=True)\n",
    "            train_df[name] = label\n",
    "        return train_df\n",
    "\n",
    "    def sequance_series(self,data, window=1, lag=1, dropnan=True):\n",
    "        cols, names = list(), list()\n",
    "        for i in range(window, 0, -1):\n",
    "            cols.append(data.shift(i))\n",
    "            names += [('%s(t-%d)' % (col, i)) for col in data.columns]\n",
    "        cols.append(data)\n",
    "        names += [('%s(t)' % (col)) for col in data.columns]\n",
    "        cols.append(data.shift(-lag))\n",
    "        names += [('%s(t+%d)' % (col, lag)) for col in data.columns]\n",
    "        agg = pd.concat(cols, axis=1)\n",
    "        agg.columns = names\n",
    "        if dropnan:\n",
    "            agg.dropna(inplace=True)\n",
    "        return agg\n",
    "    \n",
    "    def multi_sequance_data(self,window=10,lag=1,df_for_training_scaled=None,target_index=0):\n",
    "        trainX = []\n",
    "        trainY = []\n",
    "        n_future = lag  \n",
    "        n_past = window \n",
    "        for i in range(n_past, len(df_for_training_scaled) - n_future +1):\n",
    "            trainX.append(df_for_training_scaled[i - window:i, 0:df_for_training.shape[1]])\n",
    "            trainY.append(df_for_training_scaled[i + lag - 1:i + lag,target_index])\n",
    "        trainX, trainY = np.array(trainX), np.array(trainY)\n",
    "        print('trainX shape ==> {}'.format(trainX.shape))\n",
    "        print('trainY shape ==> {}'.format(trainY.shape))\n",
    "\n",
    "        return trainX,trainY"
   ]
  },
  {
   "cell_type": "markdown",
   "id": "ed37d636",
   "metadata": {
    "papermill": {
     "duration": 0.005339,
     "end_time": "2023-04-08T17:19:59.485727",
     "exception": false,
     "start_time": "2023-04-08T17:19:59.480388",
     "status": "completed"
    },
    "tags": []
   },
   "source": [
    ","
   ]
  },
  {
   "cell_type": "markdown",
   "id": "3b3505b1",
   "metadata": {
    "papermill": {
     "duration": 0.00534,
     "end_time": "2023-04-08T17:19:59.496658",
     "exception": false,
     "start_time": "2023-04-08T17:19:59.491318",
     "status": "completed"
    },
    "tags": []
   },
   "source": [
    "**Pre-processing EDA**"
   ]
  },
  {
   "cell_type": "code",
   "execution_count": 4,
   "id": "458a43b6",
   "metadata": {
    "execution": {
     "iopub.execute_input": "2023-04-08T17:19:59.509623Z",
     "iopub.status.busy": "2023-04-08T17:19:59.508667Z",
     "iopub.status.idle": "2023-04-08T17:19:59.532630Z",
     "shell.execute_reply": "2023-04-08T17:19:59.531377Z"
    },
    "papermill": {
     "duration": 0.032734,
     "end_time": "2023-04-08T17:19:59.534839",
     "exception": false,
     "start_time": "2023-04-08T17:19:59.502105",
     "status": "completed"
    },
    "tags": []
   },
   "outputs": [
    {
     "name": "stdout",
     "output_type": "stream",
     "text": [
      "0 Date\n",
      "1 Open\n",
      "2 High\n",
      "3 Low\n",
      "4 Close\n",
      "5 Adj Close\n",
      "6 Volume\n"
     ]
    }
   ],
   "source": [
    "m=timeseries_pre(dir_path)\n",
    "train=m.read_files()"
   ]
  },
  {
   "cell_type": "code",
   "execution_count": 5,
   "id": "219a0815",
   "metadata": {
    "execution": {
     "iopub.execute_input": "2023-04-08T17:19:59.548206Z",
     "iopub.status.busy": "2023-04-08T17:19:59.547240Z",
     "iopub.status.idle": "2023-04-08T17:19:59.574457Z",
     "shell.execute_reply": "2023-04-08T17:19:59.573338Z"
    },
    "papermill": {
     "duration": 0.036244,
     "end_time": "2023-04-08T17:19:59.576839",
     "exception": false,
     "start_time": "2023-04-08T17:19:59.540595",
     "status": "completed"
    },
    "tags": []
   },
   "outputs": [
    {
     "data": {
      "text/html": [
       "<div>\n",
       "<style scoped>\n",
       "    .dataframe tbody tr th:only-of-type {\n",
       "        vertical-align: middle;\n",
       "    }\n",
       "\n",
       "    .dataframe tbody tr th {\n",
       "        vertical-align: top;\n",
       "    }\n",
       "\n",
       "    .dataframe thead th {\n",
       "        text-align: right;\n",
       "    }\n",
       "</style>\n",
       "<table border=\"1\" class=\"dataframe\">\n",
       "  <thead>\n",
       "    <tr style=\"text-align: right;\">\n",
       "      <th></th>\n",
       "      <th>Open</th>\n",
       "      <th>High</th>\n",
       "      <th>Low</th>\n",
       "      <th>Close</th>\n",
       "      <th>Adj Close</th>\n",
       "    </tr>\n",
       "    <tr>\n",
       "      <th>Date</th>\n",
       "      <th></th>\n",
       "      <th></th>\n",
       "      <th></th>\n",
       "      <th></th>\n",
       "      <th></th>\n",
       "    </tr>\n",
       "  </thead>\n",
       "  <tbody>\n",
       "    <tr>\n",
       "      <th>2010-06-29</th>\n",
       "      <td>1.266667</td>\n",
       "      <td>1.666667</td>\n",
       "      <td>1.169333</td>\n",
       "      <td>1.592667</td>\n",
       "      <td>1.592667</td>\n",
       "    </tr>\n",
       "    <tr>\n",
       "      <th>2010-06-30</th>\n",
       "      <td>1.719333</td>\n",
       "      <td>2.028000</td>\n",
       "      <td>1.553333</td>\n",
       "      <td>1.588667</td>\n",
       "      <td>1.588667</td>\n",
       "    </tr>\n",
       "    <tr>\n",
       "      <th>2010-07-01</th>\n",
       "      <td>1.666667</td>\n",
       "      <td>1.728000</td>\n",
       "      <td>1.351333</td>\n",
       "      <td>1.464000</td>\n",
       "      <td>1.464000</td>\n",
       "    </tr>\n",
       "    <tr>\n",
       "      <th>2010-07-02</th>\n",
       "      <td>1.533333</td>\n",
       "      <td>1.540000</td>\n",
       "      <td>1.247333</td>\n",
       "      <td>1.280000</td>\n",
       "      <td>1.280000</td>\n",
       "    </tr>\n",
       "    <tr>\n",
       "      <th>2010-07-06</th>\n",
       "      <td>1.333333</td>\n",
       "      <td>1.333333</td>\n",
       "      <td>1.055333</td>\n",
       "      <td>1.074000</td>\n",
       "      <td>1.074000</td>\n",
       "    </tr>\n",
       "    <tr>\n",
       "      <th>...</th>\n",
       "      <td>...</td>\n",
       "      <td>...</td>\n",
       "      <td>...</td>\n",
       "      <td>...</td>\n",
       "      <td>...</td>\n",
       "    </tr>\n",
       "    <tr>\n",
       "      <th>2023-03-31</th>\n",
       "      <td>197.529999</td>\n",
       "      <td>207.789993</td>\n",
       "      <td>197.199997</td>\n",
       "      <td>207.460007</td>\n",
       "      <td>207.460007</td>\n",
       "    </tr>\n",
       "    <tr>\n",
       "      <th>2023-04-03</th>\n",
       "      <td>199.910004</td>\n",
       "      <td>202.690002</td>\n",
       "      <td>192.199997</td>\n",
       "      <td>194.770004</td>\n",
       "      <td>194.770004</td>\n",
       "    </tr>\n",
       "    <tr>\n",
       "      <th>2023-04-04</th>\n",
       "      <td>197.320007</td>\n",
       "      <td>198.740005</td>\n",
       "      <td>190.320007</td>\n",
       "      <td>192.580002</td>\n",
       "      <td>192.580002</td>\n",
       "    </tr>\n",
       "    <tr>\n",
       "      <th>2023-04-05</th>\n",
       "      <td>190.520004</td>\n",
       "      <td>190.679993</td>\n",
       "      <td>183.759995</td>\n",
       "      <td>185.520004</td>\n",
       "      <td>185.520004</td>\n",
       "    </tr>\n",
       "    <tr>\n",
       "      <th>2023-04-06</th>\n",
       "      <td>183.080002</td>\n",
       "      <td>186.389999</td>\n",
       "      <td>179.740005</td>\n",
       "      <td>185.059998</td>\n",
       "      <td>185.059998</td>\n",
       "    </tr>\n",
       "  </tbody>\n",
       "</table>\n",
       "<p>3216 rows × 5 columns</p>\n",
       "</div>"
      ],
      "text/plain": [
       "                  Open        High         Low       Close   Adj Close\n",
       "Date                                                                  \n",
       "2010-06-29    1.266667    1.666667    1.169333    1.592667    1.592667\n",
       "2010-06-30    1.719333    2.028000    1.553333    1.588667    1.588667\n",
       "2010-07-01    1.666667    1.728000    1.351333    1.464000    1.464000\n",
       "2010-07-02    1.533333    1.540000    1.247333    1.280000    1.280000\n",
       "2010-07-06    1.333333    1.333333    1.055333    1.074000    1.074000\n",
       "...                ...         ...         ...         ...         ...\n",
       "2023-03-31  197.529999  207.789993  197.199997  207.460007  207.460007\n",
       "2023-04-03  199.910004  202.690002  192.199997  194.770004  194.770004\n",
       "2023-04-04  197.320007  198.740005  190.320007  192.580002  192.580002\n",
       "2023-04-05  190.520004  190.679993  183.759995  185.520004  185.520004\n",
       "2023-04-06  183.080002  186.389999  179.740005  185.059998  185.059998\n",
       "\n",
       "[3216 rows x 5 columns]"
      ]
     },
     "execution_count": 5,
     "metadata": {},
     "output_type": "execute_result"
    }
   ],
   "source": [
    "train=train.set_index(\"Date\").drop(columns=[\"Volume\"])\n",
    "train"
   ]
  },
  {
   "cell_type": "code",
   "execution_count": 6,
   "id": "5040c26e",
   "metadata": {
    "execution": {
     "iopub.execute_input": "2023-04-08T17:19:59.590835Z",
     "iopub.status.busy": "2023-04-08T17:19:59.590556Z",
     "iopub.status.idle": "2023-04-08T17:19:59.598211Z",
     "shell.execute_reply": "2023-04-08T17:19:59.597150Z"
    },
    "papermill": {
     "duration": 0.017391,
     "end_time": "2023-04-08T17:19:59.600549",
     "exception": false,
     "start_time": "2023-04-08T17:19:59.583158",
     "status": "completed"
    },
    "tags": []
   },
   "outputs": [
    {
     "data": {
      "text/plain": [
       "Date\n",
       "2010-06-29      1.266667\n",
       "2010-06-30      1.719333\n",
       "2010-07-01      1.666667\n",
       "2010-07-02      1.533333\n",
       "2010-07-06      1.333333\n",
       "                 ...    \n",
       "2023-03-31    197.529999\n",
       "2023-04-03    199.910004\n",
       "2023-04-04    197.320007\n",
       "2023-04-05    190.520004\n",
       "2023-04-06    183.080002\n",
       "Name: Open, Length: 3216, dtype: float64"
      ]
     },
     "execution_count": 6,
     "metadata": {},
     "output_type": "execute_result"
    }
   ],
   "source": [
    "target=train[\"Open\"]\n",
    "target"
   ]
  },
  {
   "cell_type": "code",
   "execution_count": 7,
   "id": "b44eee20",
   "metadata": {
    "execution": {
     "iopub.execute_input": "2023-04-08T17:19:59.615585Z",
     "iopub.status.busy": "2023-04-08T17:19:59.614723Z",
     "iopub.status.idle": "2023-04-08T17:20:00.098388Z",
     "shell.execute_reply": "2023-04-08T17:20:00.097393Z"
    },
    "papermill": {
     "duration": 0.493439,
     "end_time": "2023-04-08T17:20:00.100554",
     "exception": false,
     "start_time": "2023-04-08T17:19:59.607115",
     "status": "completed"
    },
    "tags": []
   },
   "outputs": [
    {
     "data": {
      "text/plain": [
       "<AxesSubplot:xlabel='Date'>"
      ]
     },
     "execution_count": 7,
     "metadata": {},
     "output_type": "execute_result"
    },
    {
     "data": {
      "image/png": "[encoded data removed]",
      "text/plain": [
       "<Figure size 640x480 with 1 Axes>"
      ]
     },
     "metadata": {},
     "output_type": "display_data"
    }
   ],
   "source": [
    "target.plot()"
   ]
  },
  {
   "cell_type": "code",
   "execution_count": 8,
   "id": "6a52cafc",
   "metadata": {
    "execution": {
     "iopub.execute_input": "2023-04-08T17:20:00.116574Z",
     "iopub.status.busy": "2023-04-08T17:20:00.114951Z",
     "iopub.status.idle": "2023-04-08T17:20:00.126384Z",
     "shell.execute_reply": "2023-04-08T17:20:00.125040Z"
    },
    "papermill": {
     "duration": 0.021196,
     "end_time": "2023-04-08T17:20:00.128483",
     "exception": false,
     "start_time": "2023-04-08T17:20:00.107287",
     "status": "completed"
    },
    "tags": []
   },
   "outputs": [
    {
     "name": "stdout",
     "output_type": "stream",
     "text": [
      "(3216, 5)\n"
     ]
    }
   ],
   "source": [
    "window=14\n",
    "lag=1\n",
    "\n",
    "df_for_training = train.astype(float)\n",
    "scaler = StandardScaler()\n",
    "scaler = scaler.fit(df_for_training)\n",
    "df_for_training_scaled = scaler.transform(df_for_training)\n",
    "print(df_for_training_scaled.shape)"
   ]
  },
  {
   "cell_type": "code",
   "execution_count": 9,
   "id": "24d062c8",
   "metadata": {
    "execution": {
     "iopub.execute_input": "2023-04-08T17:20:00.142983Z",
     "iopub.status.busy": "2023-04-08T17:20:00.142710Z",
     "iopub.status.idle": "2023-04-08T17:20:00.159022Z",
     "shell.execute_reply": "2023-04-08T17:20:00.158036Z"
    },
    "papermill": {
     "duration": 0.026016,
     "end_time": "2023-04-08T17:20:00.161103",
     "exception": false,
     "start_time": "2023-04-08T17:20:00.135087",
     "status": "completed"
    },
    "tags": []
   },
   "outputs": [
    {
     "name": "stdout",
     "output_type": "stream",
     "text": [
      "trainX shape ==> (3202, 14, 5)\n",
      "trainY shape ==> (3202, 1)\n",
      "target name  ==>  Open\n"
     ]
    }
   ],
   "source": [
    "trainX,trainY = m.multi_sequance_data(window=window,lag=lag,df_for_training_scaled=df_for_training_scaled,target_index=0)\n",
    "print(\"target name  ==> \",train.columns[0])"
   ]
  },
  {
   "cell_type": "markdown",
   "id": "9996b468",
   "metadata": {
    "papermill": {
     "duration": 0.006622,
     "end_time": "2023-04-08T17:20:00.174895",
     "exception": false,
     "start_time": "2023-04-08T17:20:00.168273",
     "status": "completed"
    },
    "tags": []
   },
   "source": [
    "."
   ]
  },
  {
   "cell_type": "markdown",
   "id": "afe34c1a",
   "metadata": {
    "papermill": {
     "duration": 0.006484,
     "end_time": "2023-04-08T17:20:00.188056",
     "exception": false,
     "start_time": "2023-04-08T17:20:00.181572",
     "status": "completed"
    },
    "tags": []
   },
   "source": [
    "***python Class For all models***\n",
    "*-tune hyperparamters*"
   ]
  },
  {
   "cell_type": "code",
   "execution_count": 10,
   "id": "c485b2d5",
   "metadata": {
    "execution": {
     "iopub.execute_input": "2023-04-08T17:20:00.203098Z",
     "iopub.status.busy": "2023-04-08T17:20:00.202826Z",
     "iopub.status.idle": "2023-04-08T17:20:00.227316Z",
     "shell.execute_reply": "2023-04-08T17:20:00.226189Z"
    },
    "papermill": {
     "duration": 0.034665,
     "end_time": "2023-04-08T17:20:00.229449",
     "exception": false,
     "start_time": "2023-04-08T17:20:00.194784",
     "status": "completed"
    },
    "tags": []
   },
   "outputs": [],
   "source": [
    "\n",
    "class all_model():\n",
    "    def __init__(self,trainX,trainY):\n",
    "        self.trainX=trainX\n",
    "        self.trainX=trainY\n",
    "     \n",
    "    def cnn(self,lr=0.001,batch_size=160,epochs=1000, patience=10,validation_split=0.1,plot=True):\n",
    "        model_cnn = Sequential()\n",
    "        model_cnn.add(Conv1D(filters=128, kernel_size=2, activation='relu', input_shape=(trainX.shape[1], trainX.shape[2])))\n",
    "        model_cnn.add(MaxPooling1D(pool_size=2))\n",
    "        model_cnn.add(Flatten())\n",
    "        model_cnn.add(Dense (64, activation='relu'))\n",
    "        model_cnn.add(Dropout(0.1))\n",
    "        model_cnn.add(Dense (128, activation='relu'))\n",
    "        model_cnn.add(Dropout(0.1))\n",
    "        model_cnn.add(Dense (34, activation='relu'))\n",
    "        model_cnn.add(Dropout(0.2))\n",
    "        model_cnn.add(Dense(trainY.shape[1]))\n",
    "        model_cnn.compile(loss='mse', optimizer=optimizers.Adam(lr))\n",
    "        model_cnn.summary()\n",
    "        callback = tf.keras.callbacks.EarlyStopping(monitor='val_loss', patience=patience)\n",
    "        cnn_history = model_cnn.fit(trainX, trainY,validation_split=validation_split, callbacks=[callback],batch_size=batch_size,epochs=epochs, verbose=1)\n",
    "        loss=[]\n",
    "        val_loss=[]\n",
    "        loss.append(cnn_history.history['loss'])\n",
    "        val_loss.append(cnn_history.history['val_loss'])\n",
    "        \n",
    "        if plot is True:\n",
    "            plt.plot(loss[0], label='Training loss')\n",
    "            plt.plot(val_loss[0], label='Validation loss')\n",
    "            plt.legend()\n",
    "            \n",
    "        return model_cnn\n",
    "    \n",
    "    \n",
    "    def lstm(self,lr=0.001,batch_size=160,epochs=1000,validation_split=0.1 ,patience=10,plot=True):\n",
    "        lstm = Sequential()\n",
    "        lstm.add(LSTM(256, activation='relu', input_shape=(X_train_series.shape[1], X_train_series.shape[2])))\n",
    "        lstm.add(Dense(128))\n",
    "        lstm.add(Dropout(0.3))\n",
    "        lstm.add(Dense(64))\n",
    "        lstm.add(Dense(32))\n",
    "        lstm.add(Dense(1))\n",
    "        lstm.compile(loss='mse', optimizer=optimizers.Adam(lr))\n",
    "        lstm.summary()\n",
    "\n",
    "        callback = tf.keras.callbacks.EarlyStopping(monitor='val_loss', patience=patience)\n",
    "        lstm_history = lstm.fit(trainX, trainY,validation_split=validation_split, callbacks=[callback],batch_size=batch_size,epochs=epochs, verbose=1)\n",
    "        loss=[]\n",
    "        val_loss=[]\n",
    "        loss.append(lstm_history.history['loss'])\n",
    "        val_loss.append(lstm_history.history['val_loss'])\n",
    "        \n",
    "        if plot is True:\n",
    "            plt.plot(loss[0], label='Training loss')\n",
    "            plt.plot(val_loss[0], label='Validation loss')\n",
    "            plt.legend()\n",
    "            \n",
    "        return lstm\n",
    "    \n",
    "    def cnnlstm(self,lr=0.001,batch_size=160,epochs=1000,validation_split=0.1, patience=10,plot=True): \n",
    "        a,b,c,d=trainX.shape[0],1,trainX.shape[1],trainX.shape[2]\n",
    "        trainX1=trainX.reshape(a,b,c,d)\n",
    "        cnn_lstm = Sequential()\n",
    "        cnn_lstm.add(TimeDistributed(Conv1D(filters=128, kernel_size=1, activation='relu'), input_shape=(None, trainX1.shape[2], trainX1.shape[3])))\n",
    "        cnn_lstm.add(TimeDistributed(MaxPooling1D(pool_size=2)))\n",
    "        cnn_lstm.add(TimeDistributed(Flatten()))\n",
    "        cnn_lstm.add(TimeDistributed(Dropout(0.2)))\n",
    "        cnn_lstm.add(LSTM(64, activation='relu'))\n",
    "        cnn_lstm.add(Dense(32))\n",
    "        cnn_lstm.add(Dense(1))\n",
    "        cnn_lstm.compile(loss='mse', optimizer=optimizers.Adam(lr))\n",
    "        cnn_lstm.summary()\n",
    "\n",
    "        callback = tf.keras.callbacks.EarlyStopping(monitor='val_loss', patience=patience)\n",
    "        cnn_lstm_history = cnn_lstm.fit(trainX1, trainY,validation_split=validation_split, callbacks=[callback],batch_size=batch_size,epochs=epochs, verbose=1)\n",
    "        loss=[]\n",
    "        val_loss=[]\n",
    "        loss.append(cnn_lstm_history.history['loss'])\n",
    "        val_loss.append(cnn_lstm_history.history['val_loss'])\n",
    "        \n",
    "        if plot is True:\n",
    "            plt.plot(loss[0], label='Training loss')\n",
    "            plt.plot(val_loss[0], label='Validation loss')\n",
    "            plt.legend()\n",
    "            \n",
    "        return cnn_lstm,trainX1     \n",
    "    \n",
    "    def plot_PvsA(self,prediction, df_for_training,train,scaler,title=\"cnn\"):\n",
    "        prediction_copies = np.repeat(prediction, df_for_training.shape[1], axis=-1)\n",
    "        y_pred_future = scaler.inverse_transform(prediction_copies)[:,0]\n",
    "        import sklearn\n",
    "        mape=sklearn.metrics.mean_absolute_percentage_error(train['Open'][-len(y_pred_future)::], y_pred_future)\n",
    "        R2_score= sklearn.metrics.r2_score(train['Open'][-len(y_pred_future)::], y_pred_future)\n",
    "        fig, ax = plt.subplots(figsize=(8, 3))\n",
    "        font = {'family': 'serif'}\n",
    "        ax.plot(train['Open'][-len(y_pred_future)::].index,y_pred_future,label='Predicted')\n",
    "        ax.plot(train['Open'][-len(y_pred_future)::].index,train['Open'][-len(y_pred_future)::],label='True')\n",
    "        ax.set_xlabel('Sales',font='serif') \n",
    "        ax.set_ylabel('Date',font='serif') \n",
    "        ax.set_title(label=\"Prediction Vs Actual plot _\"+title+\"__ MAPE =\"+str(mape.round(2))+\"__ R2 =\"+str(R2_score.round(3)),\n",
    "                  fontsize=10,\n",
    "                  color=\"darkred\",font='serif')\n",
    "        ax.legend(prop=font)\n",
    "        plt.show()"
   ]
  },
  {
   "cell_type": "code",
   "execution_count": 11,
   "id": "8b14ad8f",
   "metadata": {
    "execution": {
     "iopub.execute_input": "2023-04-08T17:20:00.244594Z",
     "iopub.status.busy": "2023-04-08T17:20:00.243795Z",
     "iopub.status.idle": "2023-04-08T17:20:00.248583Z",
     "shell.execute_reply": "2023-04-08T17:20:00.247685Z"
    },
    "papermill": {
     "duration": 0.01429,
     "end_time": "2023-04-08T17:20:00.250424",
     "exception": false,
     "start_time": "2023-04-08T17:20:00.236134",
     "status": "completed"
    },
    "tags": []
   },
   "outputs": [],
   "source": [
    "Prediction_days=150\n",
    "model=all_model(trainX,trainY)\n"
   ]
  },
  {
   "cell_type": "markdown",
   "id": "4f7a6e02",
   "metadata": {
    "papermill": {
     "duration": 0.00664,
     "end_time": "2023-04-08T17:20:00.264002",
     "exception": false,
     "start_time": "2023-04-08T17:20:00.257362",
     "status": "completed"
    },
    "tags": []
   },
   "source": [
    "# ***CNN for sales Forecasting***"
   ]
  },
  {
   "cell_type": "code",
   "execution_count": 12,
   "id": "32df0738",
   "metadata": {
    "execution": {
     "iopub.execute_input": "2023-04-08T17:20:00.279168Z",
     "iopub.status.busy": "2023-04-08T17:20:00.278370Z",
     "iopub.status.idle": "2023-04-08T17:20:16.466369Z",
     "shell.execute_reply": "2023-04-08T17:20:16.465664Z"
    },
    "papermill": {
     "duration": 16.197759,
     "end_time": "2023-04-08T17:20:16.468597",
     "exception": false,
     "start_time": "2023-04-08T17:20:00.270838",
     "status": "completed"
    },
    "tags": []
   },
   "outputs": [
    {
     "name": "stdout",
     "output_type": "stream",
     "text": [
      "Model: \"sequential\"\n",
      "_________________________________________________________________\n",
      " Layer (type)                Output Shape              Param #   \n",
      "=================================================================\n",
      " conv1d (Conv1D)             (None, 13, 128)           1408      \n",
      "                                                                 \n",
      " max_pooling1d (MaxPooling1D  (None, 6, 128)           0         \n",
      " )                                                               \n",
      "                                                                 \n",
      " flatten (Flatten)           (None, 768)               0         \n",
      "                                                                 \n",
      " dense (Dense)               (None, 64)                49216     \n",
      "                                                                 \n",
      " dropout (Dropout)           (None, 64)                0         \n",
      "                                                                 \n",
      " dense_1 (Dense)             (None, 128)               8320      \n",
      "                                                                 \n",
      " dropout_1 (Dropout)         (None, 128)               0         \n",
      "                                                                 \n",
      " dense_2 (Dense)             (None, 34)                4386      \n",
      "                                                                 \n",
      " dropout_2 (Dropout)         (None, 34)                0         \n",
      "                                                                 \n",
      " dense_3 (Dense)             (None, 1)                 35        \n",
      "                                                                 \n",
      "=================================================================\n",
      "Total params: 63,365\n",
      "Trainable params: 63,365\n",
      "Non-trainable params: 0\n",
      "_________________________________________________________________\n",
      "Epoch 1/1000\n",
      "18/18 [==============================] - 5s 17ms/step - loss: 0.5671 - val_loss: 2.0774\n",
      "Epoch 2/1000\n",
      "18/18 [==============================] - 0s 5ms/step - loss: 0.2198 - val_loss: 0.6894\n",
      "Epoch 3/1000\n",
      "18/18 [==============================] - 0s 5ms/step - loss: 0.0821 - val_loss: 0.1116\n",
      "Epoch 4/1000\n",
      "18/18 [==============================] - 0s 5ms/step - loss: 0.0606 - val_loss: 0.0789\n",
      "Epoch 5/1000\n",
      "18/18 [==============================] - 0s 5ms/step - loss: 0.0499 - val_loss: 0.0755\n",
      "Epoch 6/1000\n",
      "18/18 [==============================] - 0s 5ms/step - loss: 0.0504 - val_loss: 0.0726\n",
      "Epoch 7/1000\n",
      "18/18 [==============================] - 0s 5ms/step - loss: 0.0489 - val_loss: 0.0709\n",
      "Epoch 8/1000\n",
      "18/18 [==============================] - 0s 5ms/step - loss: 0.0463 - val_loss: 0.0697\n",
      "Epoch 9/1000\n",
      "18/18 [==============================] - 0s 6ms/step - loss: 0.0390 - val_loss: 0.0694\n",
      "Epoch 10/1000\n",
      "18/18 [==============================] - 0s 5ms/step - loss: 0.0461 - val_loss: 0.0694\n",
      "Epoch 11/1000\n",
      "18/18 [==============================] - 0s 5ms/step - loss: 0.0408 - val_loss: 0.0666\n",
      "Epoch 12/1000\n",
      "18/18 [==============================] - 0s 5ms/step - loss: 0.0389 - val_loss: 0.0674\n",
      "Epoch 13/1000\n",
      "18/18 [==============================] - 0s 5ms/step - loss: 0.0393 - val_loss: 0.0692\n",
      "Epoch 14/1000\n",
      "18/18 [==============================] - 0s 5ms/step - loss: 0.0388 - val_loss: 0.0668\n",
      "Epoch 15/1000\n",
      "18/18 [==============================] - 0s 5ms/step - loss: 0.0388 - val_loss: 0.0639\n",
      "Epoch 16/1000\n",
      "18/18 [==============================] - 0s 6ms/step - loss: 0.0408 - val_loss: 0.0621\n",
      "Epoch 17/1000\n",
      "18/18 [==============================] - 0s 5ms/step - loss: 0.0361 - val_loss: 0.0695\n",
      "Epoch 18/1000\n",
      "18/18 [==============================] - 0s 5ms/step - loss: 0.0370 - val_loss: 0.0627\n",
      "Epoch 19/1000\n",
      "18/18 [==============================] - 0s 5ms/step - loss: 0.0340 - val_loss: 0.0608\n",
      "Epoch 20/1000\n",
      "18/18 [==============================] - 0s 5ms/step - loss: 0.0377 - val_loss: 0.0607\n",
      "Epoch 21/1000\n",
      "18/18 [==============================] - 0s 5ms/step - loss: 0.0344 - val_loss: 0.0965\n",
      "Epoch 22/1000\n",
      "18/18 [==============================] - 0s 5ms/step - loss: 0.0346 - val_loss: 0.0644\n",
      "Epoch 23/1000\n",
      "18/18 [==============================] - 0s 5ms/step - loss: 0.0349 - val_loss: 0.0670\n",
      "Epoch 24/1000\n",
      "18/18 [==============================] - 0s 5ms/step - loss: 0.0281 - val_loss: 0.0561\n",
      "Epoch 25/1000\n",
      "18/18 [==============================] - 0s 5ms/step - loss: 0.0310 - val_loss: 0.0654\n",
      "Epoch 26/1000\n",
      "18/18 [==============================] - 0s 5ms/step - loss: 0.0338 - val_loss: 0.0582\n",
      "Epoch 27/1000\n",
      "18/18 [==============================] - 0s 5ms/step - loss: 0.0339 - val_loss: 0.0586\n",
      "Epoch 28/1000\n",
      "18/18 [==============================] - 0s 5ms/step - loss: 0.0285 - val_loss: 0.0611\n",
      "Epoch 29/1000\n",
      "18/18 [==============================] - 0s 5ms/step - loss: 0.0306 - val_loss: 0.0535\n",
      "Epoch 30/1000\n",
      "18/18 [==============================] - 0s 5ms/step - loss: 0.0272 - val_loss: 0.0688\n",
      "Epoch 31/1000\n",
      "18/18 [==============================] - 0s 5ms/step - loss: 0.0270 - val_loss: 0.0594\n",
      "Epoch 32/1000\n",
      "18/18 [==============================] - 0s 6ms/step - loss: 0.0282 - val_loss: 0.0647\n",
      "Epoch 33/1000\n",
      "18/18 [==============================] - 0s 9ms/step - loss: 0.0280 - val_loss: 0.0516\n",
      "Epoch 34/1000\n",
      "18/18 [==============================] - 0s 8ms/step - loss: 0.0299 - val_loss: 0.0738\n",
      "Epoch 35/1000\n",
      "18/18 [==============================] - 0s 7ms/step - loss: 0.0274 - val_loss: 0.0709\n",
      "Epoch 36/1000\n",
      "18/18 [==============================] - 0s 8ms/step - loss: 0.0290 - val_loss: 0.0440\n",
      "Epoch 37/1000\n",
      "18/18 [==============================] - 0s 7ms/step - loss: 0.0265 - val_loss: 0.0587\n",
      "Epoch 38/1000\n",
      "18/18 [==============================] - 0s 7ms/step - loss: 0.0276 - val_loss: 0.0454\n",
      "Epoch 39/1000\n",
      "18/18 [==============================] - 0s 7ms/step - loss: 0.0244 - val_loss: 0.0799\n",
      "Epoch 40/1000\n",
      "18/18 [==============================] - 0s 8ms/step - loss: 0.0231 - val_loss: 0.0376\n",
      "Epoch 41/1000\n",
      "18/18 [==============================] - 0s 5ms/step - loss: 0.0258 - val_loss: 0.0576\n",
      "Epoch 42/1000\n",
      "18/18 [==============================] - 0s 5ms/step - loss: 0.0254 - val_loss: 0.0447\n",
      "Epoch 43/1000\n",
      "18/18 [==============================] - 0s 5ms/step - loss: 0.0258 - val_loss: 0.0493\n",
      "Epoch 44/1000\n",
      "18/18 [==============================] - 0s 5ms/step - loss: 0.0253 - val_loss: 0.0404\n",
      "Epoch 45/1000\n",
      "18/18 [==============================] - 0s 5ms/step - loss: 0.0246 - val_loss: 0.0484\n",
      "Epoch 46/1000\n",
      "18/18 [==============================] - 0s 6ms/step - loss: 0.0241 - val_loss: 0.0426\n",
      "Epoch 47/1000\n",
      "18/18 [==============================] - 0s 5ms/step - loss: 0.0245 - val_loss: 0.0540\n",
      "Epoch 48/1000\n",
      "18/18 [==============================] - 0s 5ms/step - loss: 0.0231 - val_loss: 0.0381\n",
      "Epoch 49/1000\n",
      "18/18 [==============================] - 0s 5ms/step - loss: 0.0203 - val_loss: 0.0638\n",
      "Epoch 50/1000\n",
      "18/18 [==============================] - 0s 5ms/step - loss: 0.0235 - val_loss: 0.0486\n",
      "Epoch 51/1000\n",
      "18/18 [==============================] - 0s 5ms/step - loss: 0.0246 - val_loss: 0.0393\n",
      "Epoch 52/1000\n",
      "18/18 [==============================] - 0s 5ms/step - loss: 0.0217 - val_loss: 0.0343\n",
      "Epoch 53/1000\n",
      "18/18 [==============================] - 0s 5ms/step - loss: 0.0235 - val_loss: 0.0419\n",
      "Epoch 54/1000\n",
      "18/18 [==============================] - 0s 5ms/step - loss: 0.0258 - val_loss: 0.0786\n",
      "Epoch 55/1000\n",
      "18/18 [==============================] - 0s 5ms/step - loss: 0.0248 - val_loss: 0.0813\n",
      "Epoch 56/1000\n",
      "18/18 [==============================] - 0s 6ms/step - loss: 0.0217 - val_loss: 0.0308\n",
      "Epoch 57/1000\n",
      "18/18 [==============================] - 0s 5ms/step - loss: 0.0225 - val_loss: 0.0405\n",
      "Epoch 58/1000\n",
      "18/18 [==============================] - 0s 5ms/step - loss: 0.0208 - val_loss: 0.0701\n",
      "Epoch 59/1000\n",
      "18/18 [==============================] - 0s 5ms/step - loss: 0.0203 - val_loss: 0.0753\n",
      "Epoch 60/1000\n",
      "18/18 [==============================] - 0s 5ms/step - loss: 0.0245 - val_loss: 0.0602\n",
      "Epoch 61/1000\n",
      "18/18 [==============================] - 0s 5ms/step - loss: 0.0207 - val_loss: 0.0420\n",
      "Epoch 62/1000\n",
      "18/18 [==============================] - 0s 5ms/step - loss: 0.0221 - val_loss: 0.0725\n",
      "Epoch 63/1000\n",
      "18/18 [==============================] - 0s 5ms/step - loss: 0.0198 - val_loss: 0.0347\n",
      "Epoch 64/1000\n",
      "18/18 [==============================] - 0s 5ms/step - loss: 0.0174 - val_loss: 0.1018\n",
      "Epoch 65/1000\n",
      "18/18 [==============================] - 0s 5ms/step - loss: 0.0199 - val_loss: 0.0575\n",
      "Epoch 66/1000\n",
      "18/18 [==============================] - 0s 5ms/step - loss: 0.0209 - val_loss: 0.0591\n",
      "Epoch 67/1000\n",
      "18/18 [==============================] - 0s 5ms/step - loss: 0.0197 - val_loss: 0.0589\n",
      "Epoch 68/1000\n",
      "18/18 [==============================] - 0s 5ms/step - loss: 0.0205 - val_loss: 0.0632\n",
      "Epoch 69/1000\n",
      "18/18 [==============================] - 0s 5ms/step - loss: 0.0216 - val_loss: 0.0284\n",
      "Epoch 70/1000\n",
      "18/18 [==============================] - 0s 5ms/step - loss: 0.0210 - val_loss: 0.0560\n",
      "Epoch 71/1000\n",
      "18/18 [==============================] - 0s 5ms/step - loss: 0.0212 - val_loss: 0.0555\n",
      "Epoch 72/1000\n",
      "18/18 [==============================] - 0s 5ms/step - loss: 0.0207 - val_loss: 0.0320\n",
      "Epoch 73/1000\n",
      "18/18 [==============================] - 0s 5ms/step - loss: 0.0165 - val_loss: 0.0493\n",
      "Epoch 74/1000\n",
      "18/18 [==============================] - 0s 6ms/step - loss: 0.0233 - val_loss: 0.0459\n",
      "Epoch 75/1000\n",
      "18/18 [==============================] - 0s 5ms/step - loss: 0.0188 - val_loss: 0.0578\n",
      "Epoch 76/1000\n",
      "18/18 [==============================] - 0s 5ms/step - loss: 0.0199 - val_loss: 0.0320\n",
      "Epoch 77/1000\n",
      "18/18 [==============================] - 0s 5ms/step - loss: 0.0177 - val_loss: 0.0563\n",
      "Epoch 78/1000\n",
      "18/18 [==============================] - 0s 5ms/step - loss: 0.0188 - val_loss: 0.0562\n",
      "Epoch 79/1000\n",
      "18/18 [==============================] - 0s 5ms/step - loss: 0.0187 - val_loss: 0.0458\n",
      "Epoch 80/1000\n",
      "18/18 [==============================] - 0s 5ms/step - loss: 0.0196 - val_loss: 0.0284\n",
      "Epoch 81/1000\n",
      "18/18 [==============================] - 0s 5ms/step - loss: 0.0203 - val_loss: 0.0775\n",
      "Epoch 82/1000\n",
      "18/18 [==============================] - 0s 5ms/step - loss: 0.0188 - val_loss: 0.0528\n",
      "Epoch 83/1000\n",
      "18/18 [==============================] - 0s 5ms/step - loss: 0.0174 - val_loss: 0.0293\n",
      "Epoch 84/1000\n",
      "18/18 [==============================] - 0s 5ms/step - loss: 0.0172 - val_loss: 0.0950\n",
      "5/5 [==============================] - 0s 3ms/step\n"
     ]
    },
    {
     "data": {
      "image/png": "[encoded data removed]",
      "text/plain": [
       "<Figure size 640x480 with 1 Axes>"
      ]
     },
     "metadata": {},
     "output_type": "display_data"
    }
   ],
   "source": [
    "cnn_model=model.cnn(lr=0.0001,batch_size=164,epochs=1000, patience=15,plot=True)\n",
    "prediction_cnn=cnn_model.predict(trainX[-Prediction_days:])\n"
   ]
  },
  {
   "cell_type": "markdown",
   "id": "4dc5cdb9",
   "metadata": {
    "papermill": {
     "duration": 0.029139,
     "end_time": "2023-04-08T17:20:16.527693",
     "exception": false,
     "start_time": "2023-04-08T17:20:16.498554",
     "status": "completed"
    },
    "tags": []
   },
   "source": [
    "# ***LSTM for sales Forecasting***"
   ]
  },
  {
   "cell_type": "code",
   "execution_count": 13,
   "id": "e6348273",
   "metadata": {
    "execution": {
     "iopub.execute_input": "2023-04-08T17:20:16.608840Z",
     "iopub.status.busy": "2023-04-08T17:20:16.607775Z",
     "iopub.status.idle": "2023-04-08T17:20:28.029595Z",
     "shell.execute_reply": "2023-04-08T17:20:28.028492Z"
    },
    "papermill": {
     "duration": 11.474712,
     "end_time": "2023-04-08T17:20:28.032092",
     "exception": false,
     "start_time": "2023-04-08T17:20:16.557380",
     "status": "completed"
    },
    "tags": []
   },
   "outputs": [
    {
     "name": "stdout",
     "output_type": "stream",
     "text": [
      "Model: \"sequential_1\"\n",
      "_________________________________________________________________\n",
      " Layer (type)                Output Shape              Param #   \n",
      "=================================================================\n",
      " conv1d_1 (Conv1D)           (None, 13, 128)           1408      \n",
      "                                                                 \n",
      " max_pooling1d_1 (MaxPooling  (None, 6, 128)           0         \n",
      " 1D)                                                             \n",
      "                                                                 \n",
      " flatten_1 (Flatten)         (None, 768)               0         \n",
      "                                                                 \n",
      " dense_4 (Dense)             (None, 64)                49216     \n",
      "                                                                 \n",
      " dropout_3 (Dropout)         (None, 64)                0         \n",
      "                                                                 \n",
      " dense_5 (Dense)             (None, 128)               8320      \n",
      "                                                                 \n",
      " dropout_4 (Dropout)         (None, 128)               0         \n",
      "                                                                 \n",
      " dense_6 (Dense)             (None, 34)                4386      \n",
      "                                                                 \n",
      " dropout_5 (Dropout)         (None, 34)                0         \n",
      "                                                                 \n",
      " dense_7 (Dense)             (None, 1)                 35        \n",
      "                                                                 \n",
      "=================================================================\n",
      "Total params: 63,365\n",
      "Trainable params: 63,365\n",
      "Non-trainable params: 0\n",
      "_________________________________________________________________\n",
      "Epoch 1/1000\n",
      "18/18 [==============================] - 1s 13ms/step - loss: 0.5495 - val_loss: 2.0163\n",
      "Epoch 2/1000\n",
      "18/18 [==============================] - 0s 5ms/step - loss: 0.1993 - val_loss: 0.3908\n",
      "Epoch 3/1000\n",
      "18/18 [==============================] - 0s 5ms/step - loss: 0.0699 - val_loss: 0.0757\n",
      "Epoch 4/1000\n",
      "18/18 [==============================] - 0s 6ms/step - loss: 0.0489 - val_loss: 0.0778\n",
      "Epoch 5/1000\n",
      "18/18 [==============================] - 0s 6ms/step - loss: 0.0391 - val_loss: 0.0633\n",
      "Epoch 6/1000\n",
      "18/18 [==============================] - 0s 5ms/step - loss: 0.0450 - val_loss: 0.0619\n",
      "Epoch 7/1000\n",
      "18/18 [==============================] - 0s 5ms/step - loss: 0.0447 - val_loss: 0.0667\n",
      "Epoch 8/1000\n",
      "18/18 [==============================] - 0s 5ms/step - loss: 0.0439 - val_loss: 0.0613\n",
      "Epoch 9/1000\n",
      "18/18 [==============================] - 0s 5ms/step - loss: 0.0416 - val_loss: 0.0606\n",
      "Epoch 10/1000\n",
      "18/18 [==============================] - 0s 5ms/step - loss: 0.0403 - val_loss: 0.0561\n",
      "Epoch 11/1000\n",
      "18/18 [==============================] - 0s 5ms/step - loss: 0.0436 - val_loss: 0.0570\n",
      "Epoch 12/1000\n",
      "18/18 [==============================] - 0s 5ms/step - loss: 0.0389 - val_loss: 0.0557\n",
      "Epoch 13/1000\n",
      "18/18 [==============================] - 0s 5ms/step - loss: 0.0345 - val_loss: 0.0545\n",
      "Epoch 14/1000\n",
      "18/18 [==============================] - 0s 5ms/step - loss: 0.0371 - val_loss: 0.0579\n",
      "Epoch 15/1000\n",
      "18/18 [==============================] - 0s 5ms/step - loss: 0.0337 - val_loss: 0.0508\n",
      "Epoch 16/1000\n",
      "18/18 [==============================] - 0s 5ms/step - loss: 0.0303 - val_loss: 0.0559\n",
      "Epoch 17/1000\n",
      "18/18 [==============================] - 0s 6ms/step - loss: 0.0311 - val_loss: 0.0509\n",
      "Epoch 18/1000\n",
      "18/18 [==============================] - 0s 5ms/step - loss: 0.0294 - val_loss: 0.0495\n",
      "Epoch 19/1000\n",
      "18/18 [==============================] - 0s 5ms/step - loss: 0.0330 - val_loss: 0.0475\n",
      "Epoch 20/1000\n",
      "18/18 [==============================] - 0s 5ms/step - loss: 0.0285 - val_loss: 0.0502\n",
      "Epoch 21/1000\n",
      "18/18 [==============================] - 0s 5ms/step - loss: 0.0302 - val_loss: 0.0485\n",
      "Epoch 22/1000\n",
      "18/18 [==============================] - 0s 5ms/step - loss: 0.0299 - val_loss: 0.0509\n",
      "Epoch 23/1000\n",
      "18/18 [==============================] - 0s 5ms/step - loss: 0.0289 - val_loss: 0.0439\n",
      "Epoch 24/1000\n",
      "18/18 [==============================] - 0s 5ms/step - loss: 0.0303 - val_loss: 0.0617\n",
      "Epoch 25/1000\n",
      "18/18 [==============================] - 0s 5ms/step - loss: 0.0326 - val_loss: 0.0416\n",
      "Epoch 26/1000\n",
      "18/18 [==============================] - 0s 5ms/step - loss: 0.0248 - val_loss: 0.0412\n",
      "Epoch 27/1000\n",
      "18/18 [==============================] - 0s 5ms/step - loss: 0.0280 - val_loss: 0.0611\n",
      "Epoch 28/1000\n",
      "18/18 [==============================] - 0s 5ms/step - loss: 0.0276 - val_loss: 0.0397\n",
      "Epoch 29/1000\n",
      "18/18 [==============================] - 0s 5ms/step - loss: 0.0305 - val_loss: 0.0532\n",
      "Epoch 30/1000\n",
      "18/18 [==============================] - 0s 6ms/step - loss: 0.0267 - val_loss: 0.0441\n",
      "Epoch 31/1000\n",
      "18/18 [==============================] - 0s 5ms/step - loss: 0.0261 - val_loss: 0.0366\n",
      "Epoch 32/1000\n",
      "18/18 [==============================] - 0s 5ms/step - loss: 0.0258 - val_loss: 0.0528\n",
      "Epoch 33/1000\n",
      "18/18 [==============================] - 0s 5ms/step - loss: 0.0250 - val_loss: 0.0452\n",
      "Epoch 34/1000\n",
      "18/18 [==============================] - 0s 5ms/step - loss: 0.0247 - val_loss: 0.0360\n",
      "Epoch 35/1000\n",
      "18/18 [==============================] - 0s 5ms/step - loss: 0.0246 - val_loss: 0.0435\n",
      "Epoch 36/1000\n",
      "18/18 [==============================] - 0s 5ms/step - loss: 0.0248 - val_loss: 0.0349\n",
      "Epoch 37/1000\n",
      "18/18 [==============================] - 0s 5ms/step - loss: 0.0222 - val_loss: 0.0383\n",
      "Epoch 38/1000\n",
      "18/18 [==============================] - 0s 5ms/step - loss: 0.0238 - val_loss: 0.0518\n",
      "Epoch 39/1000\n",
      "18/18 [==============================] - 0s 5ms/step - loss: 0.0244 - val_loss: 0.0369\n",
      "Epoch 40/1000\n",
      "18/18 [==============================] - 0s 5ms/step - loss: 0.0227 - val_loss: 0.0331\n",
      "Epoch 41/1000\n",
      "18/18 [==============================] - 0s 5ms/step - loss: 0.0238 - val_loss: 0.0366\n",
      "Epoch 42/1000\n",
      "18/18 [==============================] - 0s 6ms/step - loss: 0.0228 - val_loss: 0.0431\n",
      "Epoch 43/1000\n",
      "18/18 [==============================] - 0s 6ms/step - loss: 0.0243 - val_loss: 0.0332\n",
      "Epoch 44/1000\n",
      "18/18 [==============================] - 0s 5ms/step - loss: 0.0252 - val_loss: 0.0333\n",
      "Epoch 45/1000\n",
      "18/18 [==============================] - 0s 6ms/step - loss: 0.0243 - val_loss: 0.0488\n",
      "Epoch 46/1000\n",
      "18/18 [==============================] - 0s 6ms/step - loss: 0.0225 - val_loss: 0.0324\n",
      "Epoch 47/1000\n",
      "18/18 [==============================] - 0s 5ms/step - loss: 0.0227 - val_loss: 0.0758\n",
      "Epoch 48/1000\n",
      "18/18 [==============================] - 0s 5ms/step - loss: 0.0228 - val_loss: 0.0318\n",
      "Epoch 49/1000\n",
      "18/18 [==============================] - 0s 5ms/step - loss: 0.0221 - val_loss: 0.0382\n",
      "Epoch 50/1000\n",
      "18/18 [==============================] - 0s 5ms/step - loss: 0.0210 - val_loss: 0.0313\n",
      "Epoch 51/1000\n",
      "18/18 [==============================] - 0s 5ms/step - loss: 0.0221 - val_loss: 0.0513\n",
      "Epoch 52/1000\n",
      "18/18 [==============================] - 0s 5ms/step - loss: 0.0212 - val_loss: 0.0317\n",
      "Epoch 53/1000\n",
      "18/18 [==============================] - 0s 5ms/step - loss: 0.0226 - val_loss: 0.0306\n",
      "Epoch 54/1000\n",
      "18/18 [==============================] - 0s 5ms/step - loss: 0.0217 - val_loss: 0.0291\n",
      "Epoch 55/1000\n",
      "18/18 [==============================] - 0s 5ms/step - loss: 0.0198 - val_loss: 0.0394\n",
      "Epoch 56/1000\n",
      "18/18 [==============================] - 0s 5ms/step - loss: 0.0230 - val_loss: 0.0473\n",
      "Epoch 57/1000\n",
      "18/18 [==============================] - 0s 5ms/step - loss: 0.0207 - val_loss: 0.0429\n",
      "Epoch 58/1000\n",
      "18/18 [==============================] - 0s 5ms/step - loss: 0.0217 - val_loss: 0.0334\n",
      "Epoch 59/1000\n",
      "18/18 [==============================] - 0s 5ms/step - loss: 0.0192 - val_loss: 0.0397\n",
      "Epoch 60/1000\n",
      "18/18 [==============================] - 0s 6ms/step - loss: 0.0185 - val_loss: 0.0900\n",
      "Epoch 61/1000\n",
      "18/18 [==============================] - 0s 5ms/step - loss: 0.0166 - val_loss: 0.0287\n",
      "Epoch 62/1000\n",
      "18/18 [==============================] - 0s 5ms/step - loss: 0.0211 - val_loss: 0.0620\n",
      "Epoch 63/1000\n",
      "18/18 [==============================] - 0s 6ms/step - loss: 0.0202 - val_loss: 0.0395\n",
      "Epoch 64/1000\n",
      "18/18 [==============================] - 0s 5ms/step - loss: 0.0201 - val_loss: 0.0325\n",
      "Epoch 65/1000\n",
      "18/18 [==============================] - 0s 5ms/step - loss: 0.0208 - val_loss: 0.0445\n",
      "Epoch 66/1000\n",
      "18/18 [==============================] - 0s 5ms/step - loss: 0.0196 - val_loss: 0.0286\n",
      "Epoch 67/1000\n",
      "18/18 [==============================] - 0s 5ms/step - loss: 0.0198 - val_loss: 0.0597\n",
      "Epoch 68/1000\n",
      "18/18 [==============================] - 0s 5ms/step - loss: 0.0238 - val_loss: 0.0270\n",
      "Epoch 69/1000\n",
      "18/18 [==============================] - 0s 6ms/step - loss: 0.0211 - val_loss: 0.0433\n",
      "Epoch 70/1000\n",
      "18/18 [==============================] - 0s 6ms/step - loss: 0.0202 - val_loss: 0.0417\n",
      "Epoch 71/1000\n",
      "18/18 [==============================] - 0s 5ms/step - loss: 0.0179 - val_loss: 0.0372\n",
      "Epoch 72/1000\n",
      "18/18 [==============================] - 0s 5ms/step - loss: 0.0200 - val_loss: 0.0309\n",
      "Epoch 73/1000\n",
      "18/18 [==============================] - 0s 5ms/step - loss: 0.0201 - val_loss: 0.0418\n",
      "Epoch 74/1000\n",
      "18/18 [==============================] - 0s 5ms/step - loss: 0.0205 - val_loss: 0.0548\n",
      "Epoch 75/1000\n",
      "18/18 [==============================] - 0s 5ms/step - loss: 0.0200 - val_loss: 0.0452\n",
      "Epoch 76/1000\n",
      "18/18 [==============================] - 0s 5ms/step - loss: 0.0199 - val_loss: 0.0327\n",
      "Epoch 77/1000\n",
      "18/18 [==============================] - 0s 5ms/step - loss: 0.0191 - val_loss: 0.0432\n",
      "Epoch 78/1000\n",
      "18/18 [==============================] - 0s 5ms/step - loss: 0.0181 - val_loss: 0.0429\n",
      "Epoch 79/1000\n",
      "18/18 [==============================] - 0s 5ms/step - loss: 0.0186 - val_loss: 0.0376\n",
      "Epoch 80/1000\n",
      "18/18 [==============================] - 0s 5ms/step - loss: 0.0179 - val_loss: 0.0605\n",
      "Epoch 81/1000\n",
      "18/18 [==============================] - 0s 5ms/step - loss: 0.0173 - val_loss: 0.0422\n",
      "Epoch 82/1000\n",
      "18/18 [==============================] - 0s 5ms/step - loss: 0.0215 - val_loss: 0.0412\n",
      "Epoch 83/1000\n",
      "18/18 [==============================] - 0s 6ms/step - loss: 0.0215 - val_loss: 0.0257\n",
      "Epoch 84/1000\n",
      "18/18 [==============================] - 0s 5ms/step - loss: 0.0207 - val_loss: 0.0496\n",
      "Epoch 85/1000\n",
      "18/18 [==============================] - 0s 5ms/step - loss: 0.0178 - val_loss: 0.0349\n",
      "Epoch 86/1000\n",
      "18/18 [==============================] - 0s 5ms/step - loss: 0.0202 - val_loss: 0.0259\n",
      "Epoch 87/1000\n",
      "18/18 [==============================] - 0s 5ms/step - loss: 0.0186 - val_loss: 0.0357\n",
      "Epoch 88/1000\n",
      "18/18 [==============================] - 0s 5ms/step - loss: 0.0205 - val_loss: 0.0339\n",
      "Epoch 89/1000\n",
      "18/18 [==============================] - 0s 5ms/step - loss: 0.0212 - val_loss: 0.0523\n",
      "Epoch 90/1000\n",
      "18/18 [==============================] - 0s 5ms/step - loss: 0.0205 - val_loss: 0.0417\n",
      "Epoch 91/1000\n",
      "18/18 [==============================] - 0s 5ms/step - loss: 0.0169 - val_loss: 0.0322\n",
      "Epoch 92/1000\n",
      "18/18 [==============================] - 0s 5ms/step - loss: 0.0188 - val_loss: 0.0261\n",
      "Epoch 93/1000\n",
      "18/18 [==============================] - 0s 5ms/step - loss: 0.0180 - val_loss: 0.0648\n",
      "Epoch 94/1000\n",
      "18/18 [==============================] - 0s 5ms/step - loss: 0.0189 - val_loss: 0.0421\n",
      "Epoch 95/1000\n",
      "18/18 [==============================] - 0s 5ms/step - loss: 0.0202 - val_loss: 0.0424\n",
      "Epoch 96/1000\n",
      "18/18 [==============================] - 0s 6ms/step - loss: 0.0192 - val_loss: 0.0509\n",
      "Epoch 97/1000\n",
      "18/18 [==============================] - 0s 5ms/step - loss: 0.0209 - val_loss: 0.0319\n",
      "Epoch 98/1000\n",
      "18/18 [==============================] - 0s 5ms/step - loss: 0.0199 - val_loss: 0.0385\n",
      "5/5 [==============================] - 0s 2ms/step\n"
     ]
    },
    {
     "data": {
      "image/png": "[encoded data removed]",
      "text/plain": [
       "<Figure size 640x480 with 1 Axes>"
      ]
     },
     "metadata": {},
     "output_type": "display_data"
    }
   ],
   "source": [
    "lstm_model=model.cnn(lr=0.0001,batch_size=164,epochs=1000, patience=15,plot=True)\n",
    "prediction_lstm = lstm_model.predict(trainX[-Prediction_days:])\n"
   ]
  },
  {
   "cell_type": "markdown",
   "id": "69e2d9f3",
   "metadata": {
    "papermill": {
     "duration": 0.053182,
     "end_time": "2023-04-08T17:20:28.142401",
     "exception": false,
     "start_time": "2023-04-08T17:20:28.089219",
     "status": "completed"
    },
    "tags": []
   },
   "source": [
    "# ***CNN-LSTM for sales Forecasting***"
   ]
  },
  {
   "cell_type": "code",
   "execution_count": 14,
   "id": "c4f07f66",
   "metadata": {
    "execution": {
     "iopub.execute_input": "2023-04-08T17:20:28.252094Z",
     "iopub.status.busy": "2023-04-08T17:20:28.250875Z",
     "iopub.status.idle": "2023-04-08T17:20:38.829740Z",
     "shell.execute_reply": "2023-04-08T17:20:38.828698Z"
    },
    "papermill": {
     "duration": 10.635685,
     "end_time": "2023-04-08T17:20:38.831917",
     "exception": false,
     "start_time": "2023-04-08T17:20:28.196232",
     "status": "completed"
    },
    "tags": []
   },
   "outputs": [
    {
     "name": "stdout",
     "output_type": "stream",
     "text": [
      "Model: \"sequential_2\"\n",
      "_________________________________________________________________\n",
      " Layer (type)                Output Shape              Param #   \n",
      "=================================================================\n",
      " time_distributed (TimeDistr  (None, None, 14, 128)    768       \n",
      " ibuted)                                                         \n",
      "                                                                 \n",
      " time_distributed_1 (TimeDis  (None, None, 7, 128)     0         \n",
      " tributed)                                                       \n",
      "                                                                 \n",
      " time_distributed_2 (TimeDis  (None, None, 896)        0         \n",
      " tributed)                                                       \n",
      "                                                                 \n",
      " time_distributed_3 (TimeDis  (None, None, 896)        0         \n",
      " tributed)                                                       \n",
      "                                                                 \n",
      " lstm (LSTM)                 (None, 64)                246016    \n",
      "                                                                 \n",
      " dense_8 (Dense)             (None, 32)                2080      \n",
      "                                                                 \n",
      " dense_9 (Dense)             (None, 1)                 33        \n",
      "                                                                 \n",
      "=================================================================\n",
      "Total params: 248,897\n",
      "Trainable params: 248,897\n",
      "Non-trainable params: 0\n",
      "_________________________________________________________________\n",
      "Epoch 1/1000\n",
      "18/18 [==============================] - 2s 23ms/step - loss: 0.4492 - val_loss: 1.7305\n",
      "Epoch 2/1000\n",
      "18/18 [==============================] - 0s 7ms/step - loss: 0.1436 - val_loss: 0.0932\n",
      "Epoch 3/1000\n",
      "18/18 [==============================] - 0s 7ms/step - loss: 0.0233 - val_loss: 0.1811\n",
      "Epoch 4/1000\n",
      "18/18 [==============================] - 0s 7ms/step - loss: 0.0153 - val_loss: 0.0862\n",
      "Epoch 5/1000\n",
      "18/18 [==============================] - 0s 8ms/step - loss: 0.0141 - val_loss: 0.0877\n",
      "Epoch 6/1000\n",
      "18/18 [==============================] - 0s 7ms/step - loss: 0.0134 - val_loss: 0.0824\n",
      "Epoch 7/1000\n",
      "18/18 [==============================] - 0s 7ms/step - loss: 0.0129 - val_loss: 0.0760\n",
      "Epoch 8/1000\n",
      "18/18 [==============================] - 0s 7ms/step - loss: 0.0125 - val_loss: 0.0724\n",
      "Epoch 9/1000\n",
      "18/18 [==============================] - 0s 7ms/step - loss: 0.0113 - val_loss: 0.0661\n",
      "Epoch 10/1000\n",
      "18/18 [==============================] - 0s 8ms/step - loss: 0.0084 - val_loss: 0.0583\n",
      "Epoch 11/1000\n",
      "18/18 [==============================] - 0s 7ms/step - loss: 0.0082 - val_loss: 0.0599\n",
      "Epoch 12/1000\n",
      "18/18 [==============================] - 0s 7ms/step - loss: 0.0080 - val_loss: 0.0545\n",
      "Epoch 13/1000\n",
      "18/18 [==============================] - 0s 7ms/step - loss: 0.0075 - val_loss: 0.0525\n",
      "Epoch 14/1000\n",
      "18/18 [==============================] - 0s 7ms/step - loss: 0.0074 - val_loss: 0.0449\n",
      "Epoch 15/1000\n",
      "18/18 [==============================] - 0s 7ms/step - loss: 0.0068 - val_loss: 0.0447\n",
      "Epoch 16/1000\n",
      "18/18 [==============================] - 0s 7ms/step - loss: 0.0066 - val_loss: 0.0517\n",
      "Epoch 17/1000\n",
      "18/18 [==============================] - 0s 7ms/step - loss: 0.0063 - val_loss: 0.0434\n",
      "Epoch 18/1000\n",
      "18/18 [==============================] - 0s 9ms/step - loss: 0.0063 - val_loss: 0.0386\n",
      "Epoch 19/1000\n",
      "18/18 [==============================] - 0s 8ms/step - loss: 0.0062 - val_loss: 0.0402\n",
      "Epoch 20/1000\n",
      "18/18 [==============================] - 0s 7ms/step - loss: 0.0060 - val_loss: 0.0566\n",
      "Epoch 21/1000\n",
      "18/18 [==============================] - 0s 8ms/step - loss: 0.0058 - val_loss: 0.0349\n",
      "Epoch 22/1000\n",
      "18/18 [==============================] - 0s 7ms/step - loss: 0.0053 - val_loss: 0.0392\n",
      "Epoch 23/1000\n",
      "18/18 [==============================] - 0s 8ms/step - loss: 0.0050 - val_loss: 0.0330\n",
      "Epoch 24/1000\n",
      "18/18 [==============================] - 0s 7ms/step - loss: 0.0051 - val_loss: 0.0385\n",
      "Epoch 25/1000\n",
      "18/18 [==============================] - 0s 7ms/step - loss: 0.0054 - val_loss: 0.0311\n",
      "Epoch 26/1000\n",
      "18/18 [==============================] - 0s 7ms/step - loss: 0.0052 - val_loss: 0.0311\n",
      "Epoch 27/1000\n",
      "18/18 [==============================] - 0s 7ms/step - loss: 0.0054 - val_loss: 0.0287\n",
      "Epoch 28/1000\n",
      "18/18 [==============================] - 0s 8ms/step - loss: 0.0046 - val_loss: 0.0277\n",
      "Epoch 29/1000\n",
      "18/18 [==============================] - 0s 8ms/step - loss: 0.0051 - val_loss: 0.0372\n",
      "Epoch 30/1000\n",
      "18/18 [==============================] - 0s 7ms/step - loss: 0.0050 - val_loss: 0.0283\n",
      "Epoch 31/1000\n",
      "18/18 [==============================] - 0s 8ms/step - loss: 0.0047 - val_loss: 0.0264\n",
      "Epoch 32/1000\n",
      "18/18 [==============================] - 0s 7ms/step - loss: 0.0044 - val_loss: 0.0292\n",
      "Epoch 33/1000\n",
      "18/18 [==============================] - 0s 7ms/step - loss: 0.0047 - val_loss: 0.0256\n",
      "Epoch 34/1000\n",
      "18/18 [==============================] - 0s 9ms/step - loss: 0.0043 - val_loss: 0.0272\n",
      "Epoch 35/1000\n",
      "18/18 [==============================] - 0s 7ms/step - loss: 0.0050 - val_loss: 0.0259\n",
      "Epoch 36/1000\n",
      "18/18 [==============================] - 0s 7ms/step - loss: 0.0040 - val_loss: 0.0240\n",
      "Epoch 37/1000\n",
      "18/18 [==============================] - 0s 7ms/step - loss: 0.0045 - val_loss: 0.0289\n",
      "Epoch 38/1000\n",
      "18/18 [==============================] - 0s 9ms/step - loss: 0.0047 - val_loss: 0.0234\n",
      "Epoch 39/1000\n",
      "18/18 [==============================] - 0s 8ms/step - loss: 0.0043 - val_loss: 0.0229\n",
      "Epoch 40/1000\n",
      "18/18 [==============================] - 0s 7ms/step - loss: 0.0042 - val_loss: 0.0229\n",
      "Epoch 41/1000\n",
      "18/18 [==============================] - 0s 7ms/step - loss: 0.0040 - val_loss: 0.0224\n",
      "Epoch 42/1000\n",
      "18/18 [==============================] - 0s 7ms/step - loss: 0.0040 - val_loss: 0.0226\n",
      "Epoch 43/1000\n",
      "18/18 [==============================] - 0s 7ms/step - loss: 0.0043 - val_loss: 0.0230\n",
      "Epoch 44/1000\n",
      "18/18 [==============================] - 0s 7ms/step - loss: 0.0043 - val_loss: 0.0218\n",
      "Epoch 45/1000\n",
      "18/18 [==============================] - 0s 8ms/step - loss: 0.0040 - val_loss: 0.0216\n",
      "Epoch 46/1000\n",
      "18/18 [==============================] - 0s 7ms/step - loss: 0.0041 - val_loss: 0.0281\n",
      "Epoch 47/1000\n",
      "18/18 [==============================] - 0s 8ms/step - loss: 0.0039 - val_loss: 0.0222\n",
      "Epoch 48/1000\n",
      "18/18 [==============================] - 0s 8ms/step - loss: 0.0036 - val_loss: 0.0240\n",
      "Epoch 49/1000\n",
      "18/18 [==============================] - 0s 7ms/step - loss: 0.0040 - val_loss: 0.0215\n",
      "Epoch 50/1000\n",
      "18/18 [==============================] - 0s 7ms/step - loss: 0.0040 - val_loss: 0.0269\n",
      "Epoch 51/1000\n",
      "18/18 [==============================] - 0s 7ms/step - loss: 0.0043 - val_loss: 0.0219\n",
      "Epoch 52/1000\n",
      "18/18 [==============================] - 0s 8ms/step - loss: 0.0041 - val_loss: 0.0205\n",
      "Epoch 53/1000\n",
      "18/18 [==============================] - 0s 7ms/step - loss: 0.0041 - val_loss: 0.0204\n",
      "Epoch 54/1000\n",
      "18/18 [==============================] - 0s 8ms/step - loss: 0.0039 - val_loss: 0.0215\n",
      "Epoch 55/1000\n",
      "18/18 [==============================] - 0s 7ms/step - loss: 0.0040 - val_loss: 0.0221\n",
      "Epoch 56/1000\n",
      "18/18 [==============================] - 0s 9ms/step - loss: 0.0041 - val_loss: 0.0208\n",
      "Epoch 57/1000\n",
      "18/18 [==============================] - 0s 7ms/step - loss: 0.0034 - val_loss: 0.0213\n",
      "Epoch 58/1000\n",
      "18/18 [==============================] - 0s 7ms/step - loss: 0.0041 - val_loss: 0.0215\n",
      "5/5 [==============================] - 0s 3ms/step\n"
     ]
    },
    {
     "data": {
      "image/png": "[encoded data removed]",
      "text/plain": [
       "<Figure size 640x480 with 1 Axes>"
      ]
     },
     "metadata": {},
     "output_type": "display_data"
    }
   ],
   "source": [
    "cnn_lstm_model,trainx  = model.cnnlstm(lr=0.0001,batch_size=164,epochs=1000, patience=5,plot=True)\n",
    "prediction_cnn_lstm = cnn_lstm_model.predict(trainx[-Prediction_days:])\n"
   ]
  },
  {
   "cell_type": "markdown",
   "id": "7a8f15a4",
   "metadata": {
    "papermill": {
     "duration": 0.061607,
     "end_time": "2023-04-08T17:20:38.955254",
     "exception": false,
     "start_time": "2023-04-08T17:20:38.893647",
     "status": "completed"
    },
    "tags": []
   },
   "source": [
    "# ***Results***"
   ]
  },
  {
   "cell_type": "code",
   "execution_count": 15,
   "id": "a6dadb89",
   "metadata": {
    "execution": {
     "iopub.execute_input": "2023-04-08T17:20:39.081083Z",
     "iopub.status.busy": "2023-04-08T17:20:39.079887Z",
     "iopub.status.idle": "2023-04-08T17:20:39.787616Z",
     "shell.execute_reply": "2023-04-08T17:20:39.786664Z"
    },
    "papermill": {
     "duration": 0.773003,
     "end_time": "2023-04-08T17:20:39.789787",
     "exception": false,
     "start_time": "2023-04-08T17:20:39.016784",
     "status": "completed"
    },
    "tags": []
   },
   "outputs": [
    {
     "data": {
      "image/png": "[encoded data removed]",
      "text/plain": [
       "<Figure size 800x300 with 1 Axes>"
      ]
     },
     "metadata": {},
     "output_type": "display_data"
    },
    {
     "data": {
      "image/png": "[encoded data removed]",
      "text/plain": [
       "<Figure size 800x300 with 1 Axes>"
      ]
     },
     "metadata": {},
     "output_type": "display_data"
    },
    {
     "data": {
      "image/png": "[encoded data removed]",
      "text/plain": [
       "<Figure size 800x300 with 1 Axes>"
      ]
     },
     "metadata": {},
     "output_type": "display_data"
    }
   ],
   "source": [
    "model.plot_PvsA(prediction_cnn, df_for_training,train,scaler,title=\"[CNN]\")\n",
    "model.plot_PvsA(prediction_lstm, df_for_training,train,scaler,title=\"[LSTM]\")\n",
    "model.plot_PvsA(prediction_cnn_lstm, df_for_training,train,scaler,title=\"[CNN-LSTM]\")\n"
   ]
  },
  {
   "cell_type": "code",
   "execution_count": null,
   "id": "f34a90af",
   "metadata": {
    "papermill": {
     "duration": 0.066677,
     "end_time": "2023-04-08T17:20:39.925370",
     "exception": false,
     "start_time": "2023-04-08T17:20:39.858693",
     "status": "completed"
    },
    "tags": []
   },
   "outputs": [],
   "source": []
  },
  {
   "cell_type": "code",
   "execution_count": null,
   "id": "10a227a0",
   "metadata": {
    "papermill": {
     "duration": 0.06317,
     "end_time": "2023-04-08T17:20:40.051843",
     "exception": false,
     "start_time": "2023-04-08T17:20:39.988673",
     "status": "completed"
    },
    "tags": []
   },
   "outputs": [],
   "source": []
  },
  {
   "cell_type": "code",
   "execution_count": null,
   "id": "b1dec234",
   "metadata": {
    "papermill": {
     "duration": 0.062961,
     "end_time": "2023-04-08T17:20:40.177820",
     "exception": false,
     "start_time": "2023-04-08T17:20:40.114859",
     "status": "completed"
    },
    "tags": []
   },
   "outputs": [],
   "source": []
  },
  {
   "cell_type": "code",
   "execution_count": null,
   "id": "900ba818",
   "metadata": {
    "papermill": {
     "duration": 0.063176,
     "end_time": "2023-04-08T17:20:40.304291",
     "exception": false,
     "start_time": "2023-04-08T17:20:40.241115",
     "status": "completed"
    },
    "tags": []
   },
   "outputs": [],
   "source": []
  },
  {
   "cell_type": "code",
   "execution_count": null,
   "id": "18087a84",
   "metadata": {
    "papermill": {
     "duration": 0.062991,
     "end_time": "2023-04-08T17:20:40.430273",
     "exception": false,
     "start_time": "2023-04-08T17:20:40.367282",
     "status": "completed"
    },
    "tags": []
   },
   "outputs": [],
   "source": []
  },
  {
   "cell_type": "code",
   "execution_count": null,
   "id": "e5bd5ad4",
   "metadata": {
    "papermill": {
     "duration": 0.063465,
     "end_time": "2023-04-08T17:20:40.556760",
     "exception": false,
     "start_time": "2023-04-08T17:20:40.493295",
     "status": "completed"
    },
    "tags": []
   },
   "outputs": [],
   "source": []
  },
  {
   "cell_type": "code",
   "execution_count": null,
   "id": "535ce00f",
   "metadata": {
    "papermill": {
     "duration": 0.063178,
     "end_time": "2023-04-08T17:20:40.684299",
     "exception": false,
     "start_time": "2023-04-08T17:20:40.621121",
     "status": "completed"
    },
    "tags": []
   },
   "outputs": [],
   "source": []
  },
  {
   "cell_type": "code",
   "execution_count": null,
   "id": "fba8f92b",
   "metadata": {
    "papermill": {
     "duration": 0.063247,
     "end_time": "2023-04-08T17:20:40.810564",
     "exception": false,
     "start_time": "2023-04-08T17:20:40.747317",
     "status": "completed"
    },
    "tags": []
   },
   "outputs": [],
   "source": []
  },
  {
   "cell_type": "code",
   "execution_count": null,
   "id": "e6c4295a",
   "metadata": {
    "papermill": {
     "duration": 0.062675,
     "end_time": "2023-04-08T17:20:40.936590",
     "exception": false,
     "start_time": "2023-04-08T17:20:40.873915",
     "status": "completed"
    },
    "tags": []
   },
   "outputs": [],
   "source": []
  }
 ],
 "metadata": {
  "kernelspec": {
   "display_name": "Python 3",
   "language": "python",
   "name": "python3"
  },
  "language_info": {
   "codemirror_mode": {
    "name": "ipython",
    "version": 3
   },
   "file_extension": ".py",
   "mimetype": "text/x-python",
   "name": "python",
   "nbconvert_exporter": "python",
   "pygments_lexer": "ipython3",
   "version": "3.7.12"
  },
  "papermill": {
   "default_parameters": {},
   "duration": 60.679101,
   "end_time": "2023-04-08T17:20:44.622257",
   "environment_variables": {},
   "exception": null,
   "input_path": "__notebook__.ipynb",
   "output_path": "__notebook__.ipynb",
   "parameters": {},
   "start_time": "2023-04-08T17:19:43.943156",
   "version": "2.4.0"
  }
 },
 "nbformat": 4,
 "nbformat_minor": 5
}
